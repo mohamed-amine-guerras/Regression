{
 "cells": [
  {
   "cell_type": "markdown",
   "metadata": {},
   "source": [
    "# Train Test Split"
   ]
  },
  {
   "cell_type": "markdown",
   "metadata": {},
   "source": [
    "## Import the relevant libraries"
   ]
  },
  {
   "cell_type": "code",
   "execution_count": 1,
   "metadata": {},
   "outputs": [],
   "source": [
    "import numpy as np\n",
    "from sklearn.model_selection import train_test_split"
   ]
  },
  {
   "cell_type": "markdown",
   "metadata": {},
   "source": [
    "## Generate some data we are going to split"
   ]
  },
  {
   "cell_type": "code",
   "execution_count": 3,
   "metadata": {},
   "outputs": [],
   "source": [
    "a = np.arange(1,101)"
   ]
  },
  {
   "cell_type": "code",
   "execution_count": 5,
   "metadata": {},
   "outputs": [],
   "source": [
    "b = np.arange(501,601)"
   ]
  },
  {
   "cell_type": "markdown",
   "metadata": {},
   "source": [
    "## Split the data"
   ]
  },
  {
   "cell_type": "code",
   "execution_count": 6,
   "metadata": {},
   "outputs": [
    {
     "data": {
      "text/plain": [
       "[array([42,  7, 86,  2, 51, 38, 81, 76, 29, 90, 61, 82, 49, 13, 24, 56, 54,\n",
       "        72, 21, 45, 63, 88, 99, 34, 78, 32, 67,  1, 75, 93, 69, 26, 36, 16,\n",
       "        59, 41, 37, 14, 66, 17, 65, 58, 22, 84, 77, 57, 19, 68, 47, 70,  5,\n",
       "        48, 52, 30, 74, 25, 50,  4, 71, 62,  8, 23,  6, 20, 87, 39, 85, 33,\n",
       "        43, 12, 97,  3, 46, 95, 53]),\n",
       " array([ 79,  11,  91,  27,  44,  55,  28,  18,  60,  35,  89,  64,  15,\n",
       "         98,  10,  73,  40,  94,  31, 100,  92,   9,  96,  80,  83])]"
      ]
     },
     "execution_count": 6,
     "metadata": {},
     "output_type": "execute_result"
    }
   ],
   "source": [
    "train_test_split(a)"
   ]
  },
  {
   "cell_type": "code",
   "execution_count": 9,
   "metadata": {},
   "outputs": [],
   "source": [
    "a_train, a_test, b_train, b_test = train_test_split(a,b, test_size=0.2)"
   ]
  },
  {
   "cell_type": "code",
   "execution_count": 10,
   "metadata": {},
   "outputs": [
    {
     "data": {
      "text/plain": [
       "(array([100,  77,  67,  96,  80,  91,   8,  51,  39,  62,  13,  25,  50,\n",
       "         35,  20,  58,  57,  72,  95,  28,   6,  74,  70,  56,  79,  97,\n",
       "         59,  40,  30,  11,  73,  53,  12,  21,   2,  52,  23,  47,  76,\n",
       "          7,  19,  71,  83,  14,  92,  81,  15,  88,  68,  44,   4,  33,\n",
       "          9,   3,  46,  61,  54,  86,  55,  17,  38,  64,  26,  48,  87,\n",
       "         36,  42,  98,  32,  75,  27,  82,  34,   1,  78,  22,  41,  69,\n",
       "         43,  16]),\n",
       " array([45, 94, 24,  5, 37, 84, 63, 18, 89, 29, 49, 99, 31, 60, 66, 10, 85,\n",
       "        90, 65, 93]),\n",
       " array([600, 577, 567, 596, 580, 591, 508, 551, 539, 562, 513, 525, 550,\n",
       "        535, 520, 558, 557, 572, 595, 528, 506, 574, 570, 556, 579, 597,\n",
       "        559, 540, 530, 511, 573, 553, 512, 521, 502, 552, 523, 547, 576,\n",
       "        507, 519, 571, 583, 514, 592, 581, 515, 588, 568, 544, 504, 533,\n",
       "        509, 503, 546, 561, 554, 586, 555, 517, 538, 564, 526, 548, 587,\n",
       "        536, 542, 598, 532, 575, 527, 582, 534, 501, 578, 522, 541, 569,\n",
       "        543, 516]),\n",
       " array([545, 594, 524, 505, 537, 584, 563, 518, 589, 529, 549, 599, 531,\n",
       "        560, 566, 510, 585, 590, 565, 593]))"
      ]
     },
     "execution_count": 10,
     "metadata": {},
     "output_type": "execute_result"
    }
   ],
   "source": [
    "a_train, a_test, b_train, b_test"
   ]
  }
 ],
 "metadata": {
  "kernelspec": {
   "display_name": "Python 3",
   "language": "python",
   "name": "python3"
  },
  "language_info": {
   "codemirror_mode": {
    "name": "ipython",
    "version": 3
   },
   "file_extension": ".py",
   "mimetype": "text/x-python",
   "name": "python",
   "nbconvert_exporter": "python",
   "pygments_lexer": "ipython3",
   "version": "3.7.0"
  }
 },
 "nbformat": 4,
 "nbformat_minor": 2
}
